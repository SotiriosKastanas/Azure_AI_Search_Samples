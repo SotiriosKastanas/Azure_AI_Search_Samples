{
 "cells": [
  {
   "cell_type": "code",
   "execution_count": null,
   "id": "1f6d479a",
   "metadata": {},
   "outputs": [],
   "source": []
  },
  {
   "cell_type": "markdown",
   "id": "fcda467f",
   "metadata": {},
   "source": [
    "#### Here we show how to search and index (with also respect to access levels). We make use of the index created in lesson2"
   ]
  },
  {
   "cell_type": "code",
   "execution_count": 2,
   "id": "fcb8206e",
   "metadata": {},
   "outputs": [],
   "source": [
    "from azure.search.documents import SearchClient\n",
    "from azure.core.credentials import AzureKeyCredential\n",
    "from azure.search.documents.models import QueryAnswerType, QueryCaptionType, QueryType, VectorizedQuery\n",
    "import numpy as np\n",
    "from openai import AzureOpenAI\n",
    "from azure.search.documents import SearchClient\n",
    "import os"
   ]
  },
  {
   "cell_type": "code",
   "execution_count": 4,
   "id": "c21c8f32",
   "metadata": {},
   "outputs": [],
   "source": [
    "client = AzureOpenAI(\n",
    "    api_key=os.getenv(\"AZURE_OPENAI_API_KEY\"),\n",
    "    api_version=os.getenv(\"AZURE_OPENAI_API_VERSION\"),\n",
    "    azure_endpoint=os.getenv(\"AZURE_OPENAI_ENDPOINT\"),\n",
    ")"
   ]
  },
  {
   "cell_type": "code",
   "execution_count": 5,
   "id": "8805cdf5",
   "metadata": {},
   "outputs": [],
   "source": [
    "def generate_embeddings(text, client):\n",
    "    return client.embeddings.create(input=[text], model=os.getenv(\"AZURE_ADA3_DEPLOYMENT_NAME\")).data[0].embedding\n"
   ]
  },
  {
   "cell_type": "code",
   "execution_count": 7,
   "id": "267e2acb",
   "metadata": {},
   "outputs": [],
   "source": [
    "query = \"which is the first document\"\n",
    "query_embeddings = np.array(generate_embeddings(query, client)).tolist()\n",
    "azure_vector_query = [\n",
    "    VectorizedQuery(\n",
    "        vector=query_embeddings,\n",
    "        k_nearest_neighbors=3,\n",
    "        fields='content_embeddings',\n",
    "    )\n",
    "]"
   ]
  },
  {
   "cell_type": "code",
   "execution_count": 10,
   "id": "90dd7632",
   "metadata": {},
   "outputs": [],
   "source": [
    "search_client = SearchClient(endpoint=os.getenv('AI_SEARCH_ENDPOINT'), index_name='dummy-index', credential=AzureKeyCredential(os.getenv('AI_SEARCH_KEY')))\n",
    "retrieved_results =search_client.search(\n",
    "    search_text=query,\n",
    "    vector_queries=azure_vector_query,\n",
    "    select=[\n",
    "        \"title\",\n",
    "        \"content\",\n",
    "        \"security_groups\"\n",
    "    ],\n",
    "    top=5,\n",
    "    query_language='en-US',\n",
    "    query_type=QueryType.SEMANTIC,\n",
    "    semantic_configuration_name=\"my-semantic-config\",\n",
    "    query_caption=QueryCaptionType.EXTRACTIVE,\n",
    "    query_answer=QueryAnswerType.EXTRACTIVE,\n",
    ")"
   ]
  },
  {
   "cell_type": "code",
   "execution_count": 11,
   "id": "1ddfad39",
   "metadata": {},
   "outputs": [
    {
     "name": "stdout",
     "output_type": "stream",
     "text": [
      "{'title': 'chunk_1.txt', 'security_groups': ['Owners', 'Members'], 'content': 'This is the first dummy chunk of text.', '@search.score': 0.03333333507180214, '@search.reranker_score': 1.728476643562317, '@search.highlights': None, '@search.captions': [<azure.search.documents._generated.models._models_py3.QueryCaptionResult object at 0x00000234E2080FA0>]}\n",
      "{'title': 'EmperorPenguins.txt', 'security_groups': ['Owners', 'Members'], 'content': 'This is the second dummy chunk of text.', '@search.score': 0.016393441706895828, '@search.reranker_score': 1.5406079292297363, '@search.highlights': None, '@search.captions': [<azure.search.documents._generated.models._models_py3.QueryCaptionResult object at 0x00000234E2082EF0>]}\n",
      "{'title': 'RedPanda.txt', 'security_groups': ['Owners'], 'content': 'This is the third dummy chunk of text.', '@search.score': 0.016129031777381897, '@search.reranker_score': 1.510123610496521, '@search.highlights': None, '@search.captions': [<azure.search.documents._generated.models._models_py3.QueryCaptionResult object at 0x00000234E2081510>]}\n"
     ]
    }
   ],
   "source": [
    "for result in retrieved_results:\n",
    "    print(result)"
   ]
  },
  {
   "cell_type": "markdown",
   "id": "2fe42670",
   "metadata": {},
   "source": [
    "## Do a search with respect to access levels"
   ]
  },
  {
   "cell_type": "code",
   "execution_count": 16,
   "id": "c96155c7",
   "metadata": {},
   "outputs": [],
   "source": [
    "search_client = SearchClient(endpoint=os.getenv('AI_SEARCH_ENDPOINT'), index_name='dummy-index', credential=AzureKeyCredential(os.getenv('AI_SEARCH_KEY')))\n",
    "retrieved_results =search_client.search(\n",
    "    search_text=query,\n",
    "    vector_queries=azure_vector_query,\n",
    "    select=[\n",
    "        \"title\",\n",
    "        \"content\",\n",
    "        \"security_groups\"\n",
    "    ],\n",
    "    top=5,\n",
    "    query_language='en-US',\n",
    "    query_type=QueryType.SEMANTIC,\n",
    "    semantic_configuration_name=\"my-semantic-config\",\n",
    "    query_caption=QueryCaptionType.EXTRACTIVE,\n",
    "    query_answer=QueryAnswerType.EXTRACTIVE,\n",
    "    filter = \"security_groups/any(g: g eq 'Members')\"\n",
    ")"
   ]
  },
  {
   "cell_type": "code",
   "execution_count": 17,
   "id": "b059f2ec",
   "metadata": {},
   "outputs": [
    {
     "name": "stdout",
     "output_type": "stream",
     "text": [
      "{'title': 'chunk_1.txt', 'security_groups': ['Owners', 'Members'], 'content': 'This is the first dummy chunk of text.', '@search.score': 0.03333333507180214, '@search.reranker_score': 1.728476643562317, '@search.highlights': None, '@search.captions': [<azure.search.documents._generated.models._models_py3.QueryCaptionResult object at 0x00000234E2254550>]}\n",
      "{'title': 'EmperorPenguins.txt', 'security_groups': ['Owners', 'Members'], 'content': 'This is the second dummy chunk of text.', '@search.score': 0.016393441706895828, '@search.reranker_score': 1.5406079292297363, '@search.highlights': None, '@search.captions': [<azure.search.documents._generated.models._models_py3.QueryCaptionResult object at 0x00000234E2254100>]}\n"
     ]
    }
   ],
   "source": [
    "for result in retrieved_results:\n",
    "    print(result)"
   ]
  },
  {
   "cell_type": "code",
   "execution_count": null,
   "id": "ee8abc44",
   "metadata": {},
   "outputs": [],
   "source": []
  }
 ],
 "metadata": {
  "kernelspec": {
   "display_name": ".venv",
   "language": "python",
   "name": "python3"
  },
  "language_info": {
   "codemirror_mode": {
    "name": "ipython",
    "version": 3
   },
   "file_extension": ".py",
   "mimetype": "text/x-python",
   "name": "python",
   "nbconvert_exporter": "python",
   "pygments_lexer": "ipython3",
   "version": "3.10.11"
  }
 },
 "nbformat": 4,
 "nbformat_minor": 5
}
