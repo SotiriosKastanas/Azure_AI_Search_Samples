{
 "cells": [
  {
   "cell_type": "markdown",
   "id": "ab159f77",
   "metadata": {},
   "source": [
    "## Creating an index in Azure AI Search"
   ]
  },
  {
   "cell_type": "code",
   "execution_count": 2,
   "id": "ad83000b",
   "metadata": {},
   "outputs": [
    {
     "data": {
      "text/plain": [
       "True"
      ]
     },
     "execution_count": 2,
     "metadata": {},
     "output_type": "execute_result"
    }
   ],
   "source": [
    "from azure.core.credentials import AzureKeyCredential\n",
    "from azure.search.documents import SearchClient\n",
    "from azure.search.documents.indexes import SearchIndexClient\n",
    "from azure.search.documents.indexes.models import SimpleField, SearchableField, SearchFieldDataType, SearchIndex\n",
    "from dotenv import load_dotenv\n",
    "import os\n",
    "load_dotenv()"
   ]
  },
  {
   "cell_type": "code",
   "execution_count": 3,
   "id": "f3bc12be",
   "metadata": {},
   "outputs": [],
   "source": [
    "############## Assuming dummy documents are provided ##############\n",
    "# In a real scenario, these would be fetched from various sources or could be chunks of larger documents.\n",
    "# id is a unique identifier for each document.\n",
    "# content is the text content of the document.\n",
    "# title is the name of the document.\n",
    "# security_groups is a list of groups that have access to the document. In Azure AI search, this could be used for access control.\n",
    "# This is a simplified example; in practice, you would have more complex security and metadata handling\n",
    "\n",
    "documents = [\n",
    "    {\n",
    "        \"id\": \"1\",\n",
    "        \"content\": 'This is the first dummy chunk of text.',\n",
    "        \"title\": \"chunk_1.txt\",\n",
    "        \"security_groups\": ['Owners', 'Members']\n",
    "    },\n",
    "    {\n",
    "        \"id\": \"2\",\n",
    "        \"content\": 'This is the second dummy chunk of text.',\n",
    "        \"title\": \"EmperorPenguins.txt\",\n",
    "        \"security_groups\": ['Owners', 'Members']\n",
    "    },\n",
    "    {\n",
    "        \"id\": \"3\",\n",
    "        \"content\": 'This is the third dummy chunk of text.',\n",
    "        \"title\": \"RedPanda.txt\",\n",
    "        \"security_groups\": ['Owners']\n",
    "    }\n",
    "]"
   ]
  },
  {
   "cell_type": "code",
   "execution_count": 4,
   "id": "a0c2d739",
   "metadata": {},
   "outputs": [],
   "source": [
    "fields = [\n",
    "    SimpleField(\n",
    "        name=\"id\", type=SearchFieldDataType.String, key=True, sortable=True, filterable=False, facetable=False\n",
    "    ),\n",
    "    SearchableField(\n",
    "        name=\"content\",\n",
    "        type=SearchFieldDataType.String,\n",
    "        sortable=False,\n",
    "        filterable=False,\n",
    "        facetable=False,\n",
    "        searchable=True,\n",
    "        analyzer_name='en.lucene',\n",
    "    ),\n",
    "    SearchableField(\n",
    "        name=\"title\", type=SearchFieldDataType.String, searchable=False, filterable=False\n",
    "    ),\n",
    "    SimpleField(\n",
    "        name = 'security_groups',\n",
    "        type = \"Collection(Edm.String)\",\n",
    "        filterable = True\n",
    "    )\n",
    "]"
   ]
  },
  {
   "cell_type": "code",
   "execution_count": 5,
   "id": "ea60de66",
   "metadata": {},
   "outputs": [
    {
     "name": "stdout",
     "output_type": "stream",
     "text": [
      "dummy-index created\n"
     ]
    }
   ],
   "source": [
    "# index name is the name of the index you want to create or update\n",
    "index_name = \"dummy-index\"\n",
    "index_client = SearchIndexClient(endpoint=os.getenv('AI_SEARCH_ENDPOINT'), credential=AzureKeyCredential(os.getenv('AI_SEARCH_KEY')))  \n",
    "search_client = SearchClient(endpoint=os.getenv('AI_SEARCH_ENDPOINT'), index_name=index_name, credential=AzureKeyCredential(os.getenv('AI_SEARCH_KEY')))\n",
    "index = SearchIndex(name=index_name, fields=fields) \n",
    "result = index_client.create_or_update_index(index)  \n",
    "print(f'{result.name} created')\n",
    "result = search_client.upload_documents(documents)\n",
    "#upload might take a while depending on the number and size of documents"
   ]
  },
  {
   "cell_type": "code",
   "execution_count": 6,
   "id": "cc476fc4",
   "metadata": {},
   "outputs": [],
   "source": [
    "# In a next notebook we will also generate embeddings for these documents and upload them to the index."
   ]
  },
  {
   "cell_type": "markdown",
   "id": "37f0da98",
   "metadata": {},
   "source": [
    "## Fetching Documents from an index in Azure AI Search"
   ]
  },
  {
   "cell_type": "code",
   "execution_count": 7,
   "id": "2940e743",
   "metadata": {},
   "outputs": [],
   "source": [
    "def fetch_all_from_index(index_name):\n",
    "    client = SearchClient(\n",
    "        index_name=index_name,\n",
    "        endpoint= os.getenv(\"AI_SEARCH_ENDPOINT\"),\n",
    "        credential=AzureKeyCredential(os.getenv(\"AI_SEARCH_KEY\")),\n",
    "    )\n",
    "    results = client.search(search_text=\"*\")\n",
    "\n",
    "    return list(results)\n"
   ]
  },
  {
   "cell_type": "code",
   "execution_count": 8,
   "id": "dde0eafe",
   "metadata": {},
   "outputs": [
    {
     "data": {
      "text/plain": [
       "[{'content': 'This is the third dummy chunk of text.',\n",
       "  'id': '3',\n",
       "  'security_groups': ['Owners'],\n",
       "  'title': 'RedPanda.txt',\n",
       "  '@search.score': 1.0,\n",
       "  '@search.reranker_score': None,\n",
       "  '@search.highlights': None,\n",
       "  '@search.captions': None},\n",
       " {'content': 'This is the second dummy chunk of text.',\n",
       "  'id': '2',\n",
       "  'security_groups': ['Owners', 'Members'],\n",
       "  'title': 'EmperorPenguins.txt',\n",
       "  '@search.score': 1.0,\n",
       "  '@search.reranker_score': None,\n",
       "  '@search.highlights': None,\n",
       "  '@search.captions': None},\n",
       " {'content': 'This is the first dummy chunk of text.',\n",
       "  'id': '1',\n",
       "  'security_groups': ['Owners', 'Members'],\n",
       "  'title': 'chunk_1.txt',\n",
       "  '@search.score': 1.0,\n",
       "  '@search.reranker_score': None,\n",
       "  '@search.highlights': None,\n",
       "  '@search.captions': None}]"
      ]
     },
     "execution_count": 8,
     "metadata": {},
     "output_type": "execute_result"
    }
   ],
   "source": [
    "index_name = \"dummy-index\"\n",
    "_ = fetch_all_from_index(index_name)\n",
    "_"
   ]
  },
  {
   "cell_type": "code",
   "execution_count": null,
   "id": "130e33c6",
   "metadata": {},
   "outputs": [],
   "source": []
  },
  {
   "cell_type": "markdown",
   "id": "12e1c1ce",
   "metadata": {},
   "source": [
    "## Deleting an index in Azure AI Search"
   ]
  },
  {
   "cell_type": "code",
   "execution_count": 9,
   "id": "40428c55",
   "metadata": {},
   "outputs": [],
   "source": [
    "def delete_index(index_name):\n",
    "    index_client = SearchIndexClient(\n",
    "        endpoint=os.getenv('AI_SEARCH_ENDPOINT'), credential=AzureKeyCredential(os.getenv('AI_SEARCH_KEY')))\n",
    "    index_client.delete_index(index_name)\n",
    "    print(f\"{index_name} deleted\")\n"
   ]
  },
  {
   "cell_type": "code",
   "execution_count": 10,
   "id": "af2eb57b",
   "metadata": {},
   "outputs": [
    {
     "name": "stdout",
     "output_type": "stream",
     "text": [
      "dummy-index deleted\n"
     ]
    }
   ],
   "source": [
    "index_name = \"dummy-index\"\n",
    "delete_index(index_name)"
   ]
  },
  {
   "cell_type": "code",
   "execution_count": null,
   "id": "8ca87d6d",
   "metadata": {},
   "outputs": [],
   "source": []
  }
 ],
 "metadata": {
  "kernelspec": {
   "display_name": ".venv",
   "language": "python",
   "name": "python3"
  },
  "language_info": {
   "codemirror_mode": {
    "name": "ipython",
    "version": 3
   },
   "file_extension": ".py",
   "mimetype": "text/x-python",
   "name": "python",
   "nbconvert_exporter": "python",
   "pygments_lexer": "ipython3",
   "version": "3.10.11"
  }
 },
 "nbformat": 4,
 "nbformat_minor": 5
}
